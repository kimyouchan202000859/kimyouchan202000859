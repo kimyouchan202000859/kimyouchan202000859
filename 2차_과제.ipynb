{
  "nbformat": 4,
  "nbformat_minor": 0,
  "metadata": {
    "colab": {
      "provenance": [],
      "collapsed_sections": [],
      "authorship_tag": "ABX9TyMkm2fBKANAKLp9o+BiEr5c",
      "include_colab_link": true
    },
    "kernelspec": {
      "name": "python3",
      "display_name": "Python 3"
    },
    "language_info": {
      "name": "python"
    }
  },
  "cells": [
    {
      "cell_type": "markdown",
      "metadata": {
        "id": "view-in-github",
        "colab_type": "text"
      },
      "source": [
        "<a href=\"https://colab.research.google.com/github/kimyouchan202000859/kimyouchan202000859/blob/main/2%EC%B0%A8_%EA%B3%BC%EC%A0%9C.ipynb\" target=\"_parent\"><img src=\"https://colab.research.google.com/assets/colab-badge.svg\" alt=\"Open In Colab\"/></a>"
      ]
    },
    {
      "cell_type": "code",
      "execution_count": null,
      "metadata": {
        "colab": {
          "base_uri": "https://localhost:8080/"
        },
        "id": "VD2rESEKvMrr",
        "outputId": "0bb8578a-4d8d-4c71-a16c-51cac7165df5"
      },
      "outputs": [
        {
          "output_type": "stream",
          "name": "stdout",
          "text": [
            "자연수 한 개를 입력하세요. 10\n",
            "계속 입력을 원하시면, 자연수 한 개를 입력하시고, 아니라면 0을 입력하세요.5\n",
            "계속 입력을 원하시면, 자연수 한 개를 입력하시고, 아니라면 0을 입력하세요.9\n",
            "계속 입력을 원하시면, 자연수 한 개를 입력하시고, 아니라면 0을 입력하세요.2\n",
            "계속 입력을 원하시면, 자연수 한 개를 입력하시고, 아니라면 0을 입력하세요.0\n",
            "\n",
            " 당신이 입력한 숫자는 큰 것부터 순서대로 말한다면 아래와 같습니다.\n",
            "\n",
            "10, 9, 5, 2\n"
          ]
        }
      ],
      "source": [
        "a = int(input(\"자연수 한 개를 입력하세요. \"))\n",
        "b = [a]\n",
        "while len(b) <= 100:\n",
        "  a = int(input(\"계속 입력을 원하시면, 자연수 한 개를 입력하시고, 아니라면 0을 입력하세요.\"))\n",
        "  if a!= 0:\n",
        "      b.append(a)\n",
        "  elif a == 0:\n",
        "    break\n",
        "if len(b) > 100:\n",
        "  print(\"이제그만하세요. 벌써 100개를 입력했어요.\")\n",
        "\n",
        "print(\"\\n 당신이 입력한 숫자는 큰 것부터 순서대로 말한다면 아래와 같습니다.\\n\")\n",
        "c = []\n",
        "while len(b) > 0:\n",
        "  a = max(b)\n",
        "  c.append(a)\n",
        "  b.remove(a)\n",
        "d = len(c)  \n",
        "for i in range(0,d):\n",
        "  if i < d-1:\n",
        "      print(c[i], end=', ')\n",
        "  else:\n",
        "      print(c[i])"
      ]
    },
    {
      "cell_type": "code",
      "source": [
        "a = int(input(\"자연수를 입력해주세요.:\"))\n",
        "i = 1\n",
        "if a <= 30:\n",
        "    while i <= a:\n",
        "        print('*'*(i-1)+str(i))\n",
        "        i+=1\n",
        "else:\n",
        "    print(\"너무 많다\")"
      ],
      "metadata": {
        "colab": {
          "base_uri": "https://localhost:8080/"
        },
        "id": "Z1czL0FqUAAo",
        "outputId": "6925958f-c2f3-4136-a855-27d9dce681d8"
      },
      "execution_count": null,
      "outputs": [
        {
          "output_type": "stream",
          "name": "stdout",
          "text": [
            "자연수를 입력해주세요.:5\n",
            "1\n",
            "*2\n",
            "**3\n",
            "***4\n",
            "****5\n"
          ]
        }
      ]
    }
  ]
}