{
  "nbformat": 4,
  "nbformat_minor": 0,
  "metadata": {
    "colab": {
      "provenance": [],
      "collapsed_sections": [],
      "authorship_tag": "ABX9TyNq1ZZH0ar945j/TNrBm93c",
      "include_colab_link": true
    },
    "kernelspec": {
      "name": "python3",
      "display_name": "Python 3"
    },
    "language_info": {
      "name": "python"
    }
  },
  "cells": [
    {
      "cell_type": "markdown",
      "metadata": {
        "id": "view-in-github",
        "colab_type": "text"
      },
      "source": [
        "<a href=\"https://colab.research.google.com/github/kimyouchan202000859/kimyouchan202000859/blob/main/%EB%85%BC%ED%94%84%EA%B3%BC%EC%A0%9C1.ipynb\" target=\"_parent\"><img src=\"https://colab.research.google.com/assets/colab-badge.svg\" alt=\"Open In Colab\"/></a>"
      ]
    },
    {
      "cell_type": "code",
      "execution_count": null,
      "metadata": {
        "colab": {
          "base_uri": "https://localhost:8080/"
        },
        "id": "F8wISBK0PUiX",
        "outputId": "04dff4ae-d71e-41cf-e54e-a0c31ab8befc"
      },
      "outputs": [
        {
          "output_type": "stream",
          "name": "stdout",
          "text": [
            "3\n"
          ]
        }
      ],
      "source": [
        "#김유찬 202000859\n",
        "#문제1\n",
        "a=1\n",
        "b=2\n",
        "print(a+b)"
      ]
    },
    {
      "cell_type": "code",
      "source": [
        "#문제2\n",
        "A = int(input('숫자를 입력해주세요.'))\n",
        "if A <=30:\n",
        "    for i in range(1,A+1):\n",
        "        for j in range(1,A+1):\n",
        "            if j<=i:\n",
        "                print(j, end='')\n",
        "                j+=1\n",
        "        print('')\n",
        "else:\n",
        "    print('너무많다') "
      ],
      "metadata": {
        "colab": {
          "base_uri": "https://localhost:8080/"
        },
        "id": "8VX3XyZEoRY0",
        "outputId": "8d6a1902-8d83-4114-a6ef-512120835133"
      },
      "execution_count": null,
      "outputs": [
        {
          "output_type": "stream",
          "name": "stdout",
          "text": [
            "숫자를 입력해주세요.6\n",
            "1\n",
            "12\n",
            "123\n",
            "1234\n",
            "12345\n",
            "123456\n"
          ]
        }
      ]
    },
    {
      "cell_type": "code",
      "source": [
        "#문제3\n",
        "A = input('숫자를 입력해주세요.')\n",
        "if A.isdecimal() == False:\n",
        "    print(\"정수로 입력해주세요\") \n",
        "\n",
        "if A.isdecimal() == True:\n",
        "    if int(A) <=30:\n",
        "        for i in range(1,int(A)+1):\n",
        "            for j in range(1,int(A)+1):\n",
        "                if j<=i:\n",
        "                    print(j, end='')\n",
        "                    j+=1\n",
        "            print('')\n",
        "    else:\n",
        "        print('너무많다')          "
      ],
      "metadata": {
        "colab": {
          "base_uri": "https://localhost:8080/"
        },
        "id": "kedrla5hU2IJ",
        "outputId": "962fa4b0-f48d-4611-c30a-03069ddbdc25"
      },
      "execution_count": null,
      "outputs": [
        {
          "output_type": "stream",
          "name": "stdout",
          "text": [
            "숫자를 입력해주세요.9\n",
            "1\n",
            "12\n",
            "123\n",
            "1234\n",
            "12345\n",
            "123456\n",
            "1234567\n",
            "12345678\n",
            "123456789\n"
          ]
        }
      ]
    }
  ]
}